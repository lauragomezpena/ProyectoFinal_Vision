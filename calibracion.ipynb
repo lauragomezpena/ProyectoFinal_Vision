{
 "cells": [
  {
   "cell_type": "code",
   "execution_count": 11,
   "metadata": {},
   "outputs": [],
   "source": [
    "from typing import List\n",
    "import numpy as np\n",
    "import imageio\n",
    "import cv2\n",
    "import copy\n",
    "import glob\n",
    "import os\n",
    "import matplotlib.pyplot as plt\n"
   ]
  },
  {
   "cell_type": "code",
   "execution_count": 12,
   "metadata": {},
   "outputs": [],
   "source": [
    "# CALIBRACION\n",
    "\n",
    "def load_images(filenames: List) -> List:\n",
    "    return [imageio.imread(filename) for filename in filenames]\n",
    "\n",
    "\n",
    "def show_image(img, window_name = 'Image'):\n",
    "    cv2.imshow(window_name, img)\n",
    "    cv2.waitKey()\n",
    "    cv2.destroyAllWindows() \n",
    "\n",
    "\n",
    "def get_chessboard_points(chessboard_shape, dx, dy):\n",
    "    points = np.empty([0, 3])\n",
    "    for i in range(chessboard_shape[1]):\n",
    "        for j in range(chessboard_shape[0]):\n",
    "            points = np.vstack((points, np.array([dx*i, dy*j, 0])))\n",
    "    return points\n"
   ]
  },
  {
   "cell_type": "code",
   "execution_count": 13,
   "metadata": {},
   "outputs": [
    {
     "name": "stderr",
     "output_type": "stream",
     "text": [
      "C:\\Users\\laugo\\AppData\\Local\\Temp\\ipykernel_33744\\1110238016.py:4: DeprecationWarning: Starting with ImageIO v3 the behavior of this function will switch to that of iio.v3.imread. To keep the current behavior (and make this warning disappear) use `import imageio.v2 as imageio` or call `imageio.v2.imread` directly.\n",
      "  return [imageio.imread(filename) for filename in filenames]\n"
     ]
    }
   ],
   "source": [
    "imgs_path = glob.glob('../calibracion/*.jpg')  \n",
    "imgs = load_images(imgs_path)\n",
    "size = (7,6)"
   ]
  },
  {
   "cell_type": "code",
   "execution_count": 14,
   "metadata": {},
   "outputs": [],
   "source": [
    "corners = [cv2.findChessboardCorners((img), size) for img in imgs]\n",
    "\n",
    "#copying the corners \n",
    "corners_copy = copy.deepcopy(corners)\n",
    "criteria = (cv2.TERM_CRITERIA_EPS + cv2.TERM_CRITERIA_MAX_ITER, 30, 0.01)\n",
    "\n",
    "# To refine corner detections with cv2.cornerSubPix() you need to input grayscale images. Build a list containing grayscale images.\n",
    "imgs_gray = [cv2.cvtColor(img, cv2.COLOR_BGR2GRAY) for img in imgs]\n",
    "\n",
    "corners_refined = [cv2.cornerSubPix(i, cor[1], size, (-1, -1), criteria) if cor[0] else [] for i, cor in zip(imgs_gray, corners_copy)]\n",
    "imgs_copy = copy.deepcopy(imgs)\n",
    "\n",
    "#  Use cv2.drawChessboardCorners() to draw the cornes\n",
    "draw_imgs = []\n",
    "for i in range(0,len(imgs)):\n",
    "    draw_imgs.append(cv2.drawChessboardCorners(imgs[i], patternSize=size, corners=corners[i][1], patternWasFound=corners[i][0]))"
   ]
  },
  {
   "cell_type": "code",
   "execution_count": 15,
   "metadata": {},
   "outputs": [],
   "source": [
    "real_points = get_chessboard_points(size, 30, 30)\n",
    "# Filter data and get only those with adequate detections\n",
    "valid_corners = [cor[1] for cor in corners if cor[0]]\n",
    "# Convert list to numpy array\n",
    "valid_corners = np.asarray(valid_corners, dtype=np.float32)"
   ]
  },
  {
   "cell_type": "code",
   "execution_count": 16,
   "metadata": {},
   "outputs": [],
   "source": [
    "object_points = np.asarray([real_points for i in range(len(valid_corners))], dtype=np.float32)\n",
    "image_points = np.asarray(valid_corners, dtype=np.float32)\n",
    "\n",
    "#calibrating camera\n",
    "rms, intrinsics, dist_coeffs, rvecs, tvecs = cv2.calibrateCamera(object_points, image_points, (320, 240), None, None)\n",
    "\n",
    "# Obtain extrinsics\n",
    "extrinsics = list(map(lambda rvec, tvec: np.hstack((cv2.Rodrigues(rvec)[0], tvec)), rvecs, tvecs))\n",
    "\n",
    "#saving the calibration file\n",
    "np.savez('calib_rasp', intrinsic=intrinsics, extrinsic=extrinsics)"
   ]
  },
  {
   "cell_type": "code",
   "execution_count": 18,
   "metadata": {},
   "outputs": [
    {
     "name": "stdout",
     "output_type": "stream",
     "text": [
      "Intrinsics:\n",
      "[[1093.81   0.00 207.91]\n",
      " [  0.00 1096.71 248.58]\n",
      " [  0.00   0.00   1.00]]\n",
      "\n",
      "Distortion coefficients:\n",
      "[[-0.0290 1.4915 -0.0018 0.0010 -16.3624]]\n",
      "\n",
      "Root mean squared reprojection error: 0.1777\n"
     ]
    }
   ],
   "source": [
    "print(\"Intrinsics:\")\n",
    "print(np.array2string(intrinsics, formatter={'all': lambda x: f'{x:6.2f}'}))\n",
    "print(\"\\nDistortion coefficients:\")\n",
    "print(np.array2string(dist_coeffs, formatter={'all': lambda x: f'{x:6.4f}'}))\n",
    "print(f\"\\nRoot mean squared reprojection error: {rms:6.4f}\")"
   ]
  }
 ],
 "metadata": {
  "kernelspec": {
   "display_name": "base",
   "language": "python",
   "name": "python3"
  },
  "language_info": {
   "codemirror_mode": {
    "name": "ipython",
    "version": 3
   },
   "file_extension": ".py",
   "mimetype": "text/x-python",
   "name": "python",
   "nbconvert_exporter": "python",
   "pygments_lexer": "ipython3",
   "version": "3.11.5"
  }
 },
 "nbformat": 4,
 "nbformat_minor": 2
}
